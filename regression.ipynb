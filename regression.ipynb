{
 "cells": [
  {
   "cell_type": "code",
   "execution_count": null,
   "id": "3e11f951-ef19-4810-bebb-5d9bf6e38ae5",
   "metadata": {},
   "outputs": [],
   "source": [
    "import pandas as pd\n",
    "import numpy as np\n",
    "import matplotlib.pyplot as plt\n",
    "from sklearn.linear_model import LinearRegression\n",
    "from sklearn.model_selection import train_test_split"
   ]
  },
  {
   "cell_type": "code",
   "execution_count": null,
   "id": "367aab2b-1f44-466c-910e-b9659bf322e3",
   "metadata": {},
   "outputs": [],
   "source": [
    "df = pd.read_csv(\"./USA_Housing.csv\")\n",
    "df.head()"
   ]
  },
  {
   "cell_type": "code",
   "execution_count": null,
   "id": "4677ce82-7e08-472c-91f1-bacaade0b698",
   "metadata": {},
   "outputs": [],
   "source": [
    "df.info()"
   ]
  },
  {
   "cell_type": "code",
   "execution_count": null,
   "id": "f26b7694-53ec-45f8-a55d-305539300a7b",
   "metadata": {},
   "outputs": [],
   "source": [
    "df.describe()"
   ]
  },
  {
   "cell_type": "code",
   "execution_count": null,
   "id": "24cb7968-f0ad-4f2d-9b91-291836aa5ef6",
   "metadata": {},
   "outputs": [],
   "source": [
    "X = df['Avg. Area Income'].values\n",
    "\n",
    "y = df['Price'].values\n",
    "X"
   ]
  },
  {
   "cell_type": "code",
   "execution_count": null,
   "id": "4b18d8f9-b3bf-4dbf-9af9-6aa2c0083dd6",
   "metadata": {},
   "outputs": [],
   "source": [
    "X = X.reshape(-1, 1)\n",
    "X"
   ]
  },
  {
   "cell_type": "code",
   "execution_count": null,
   "id": "b128e878-ab9c-4948-8723-b9b39a135d97",
   "metadata": {},
   "outputs": [],
   "source": [
    "X_train, X_test, y_train, y_test = train_test_split(X,y, test_size = 0.3, random_state = 100)"
   ]
  },
  {
   "cell_type": "code",
   "execution_count": null,
   "id": "45ab23b7-b5f3-4b6b-931b-9f2702836eef",
   "metadata": {},
   "outputs": [],
   "source": [
    "X_train"
   ]
  },
  {
   "cell_type": "code",
   "execution_count": null,
   "id": "425789c5-da4a-4872-be70-bded26138f57",
   "metadata": {},
   "outputs": [],
   "source": [
    "%matplotlib inline\n",
    "plt.scatter(X_train, y_train, color = 'blue')\n",
    "plt.title('Training Date')\n",
    "plt.xlabel(\"Price\")\n",
    "plt.ylabel(\"Avg. Area Income\")\n",
    "plt.show()"
   ]
  },
  {
   "cell_type": "code",
   "execution_count": null,
   "id": "2157b6ba-965b-4554-9dd4-e82525c1ea43",
   "metadata": {},
   "outputs": [],
   "source": [
    "model = LinearRegression()\n",
    "model.fit(X_train, y_train)"
   ]
  },
  {
   "cell_type": "code",
   "execution_count": null,
   "id": "858f52ec-c4b7-4c64-9756-11dc0bc26cb5",
   "metadata": {},
   "outputs": [],
   "source": [
    "model.predict([[10]])"
   ]
  },
  {
   "cell_type": "code",
   "execution_count": null,
   "id": "d77ceb48-5919-400d-adef-aea84cab29d6",
   "metadata": {},
   "outputs": [],
   "source": [
    "y_hat = model.predict(X_test)\n",
    "y_hat"
   ]
  },
  {
   "cell_type": "code",
   "execution_count": null,
   "id": "3954e57f-25ba-47ad-b403-07f762464f32",
   "metadata": {},
   "outputs": [],
   "source": []
  },
  {
   "cell_type": "code",
   "execution_count": null,
   "id": "6f842721-cbf2-4b52-943a-73815785e047",
   "metadata": {},
   "outputs": [],
   "source": [
    "y_predict = model.predict(X_test)\n",
    "print(f\"Train accuracy {round(model.score(X_train,y_train)*100,2)} %\")\n",
    "print(f\"Test accuracy {round(model.score(X_test,y_test)*100,2)} %\")"
   ]
  },
  {
   "cell_type": "markdown",
   "id": "c0ffc95f-71b5-4ff5-a8ab-82fcfdb36b8d",
   "metadata": {},
   "source": [
    "### According to the data provided The more the average area income, the more the prices of the houses.\n",
    "### The accuracy was low eventhough I gave it 30% to train and there was a linear relation between x and y.\n",
    "### It is easier to understand."
   ]
  },
  {
   "cell_type": "code",
   "execution_count": null,
   "id": "3f5c8660-2e09-4a56-8a08-0bb04ef92a7d",
   "metadata": {},
   "outputs": [],
   "source": []
  }
 ],
 "metadata": {
  "kernelspec": {
   "display_name": "Python 3",
   "language": "python",
   "name": "python3"
  },
  "language_info": {
   "codemirror_mode": {
    "name": "ipython",
    "version": 3
   },
   "file_extension": ".py",
   "mimetype": "text/x-python",
   "name": "python",
   "nbconvert_exporter": "python",
   "pygments_lexer": "ipython3",
   "version": "3.9.4"
  }
 },
 "nbformat": 4,
 "nbformat_minor": 5
}